WW930+A594413@DESKTOP-7TTGSEC MINGW64 /c/ashish/personal/learnbay/gitrepo
$ ls
Data_Science/  Data_Science_ML_AL/

WW930+A594413@DESKTOP-7TTGSEC MINGW64 /c/ashish/personal/learnbay/gitrepo
$ mkdir Data_Science_Remote

WW930+A594413@DESKTOP-7TTGSEC MINGW64 /c/ashish/personal/learnbay/gitrepo
$ cd data_science_remote

WW930+A594413@DESKTOP-7TTGSEC MINGW64 /c/ashish/personal/learnbay/gitrepo/data_science_remote
$ git remote add origin https://github.com/zenith8ashu/Data_Science_ML_AL.git
fatal: not a git repository (or any of the parent directories): .git

WW930+A594413@DESKTOP-7TTGSEC MINGW64 /c/ashish/personal/learnbay/gitrepo/data_science_remote
$




WW930+A594413@DESKTOP-7TTGSEC MINGW64 /c/ashish/personal/learnbay/gitrepo/data_science_remote
$




WW930+A594413@DESKTOP-7TTGSEC MINGW64 /c/ashish/personal/learnbay/gitrepo/data_science_remote
$




WW930+A594413@DESKTOP-7TTGSEC MINGW64 /c/ashish/personal/learnbay/gitrepo/data_science_remote
$

WW930+A594413@DESKTOP-7TTGSEC MINGW64 /c/ashish/personal/learnbay/gitrepo/data_science_remote
$

WW930+A594413@DESKTOP-7TTGSEC MINGW64 /c/ashish/personal/learnbay/gitrepo/data_science_remote
$

WW930+A594413@DESKTOP-7TTGSEC MINGW64 /c/ashish/personal/learnbay/gitrepo/data_science_remote
$

WW930+A594413@DESKTOP-7TTGSEC MINGW64 /c/ashish/personal/learnbay/gitrepo/data_science_remote
$

WW930+A594413@DESKTOP-7TTGSEC MINGW64 /c/ashish/personal/learnbay/gitrepo/data_science_remote
$

WW930+A594413@DESKTOP-7TTGSEC MINGW64 /c/ashish/personal/learnbay/gitrepo/data_science_remote
$

WW930+A594413@DESKTOP-7TTGSEC MINGW64 /c/ashish/personal/learnbay/gitrepo/data_science_remote
$ git remote add origin https://github.com/zenith8ashu/Data_Science_Remote.git
fatal: not a git repository (or any of the parent directories): .git

WW930+A594413@DESKTOP-7TTGSEC MINGW64 /c/ashish/personal/learnbay/gitrepo/data_science_remote
$ cd ..

WW930+A594413@DESKTOP-7TTGSEC MINGW64 /c/ashish/personal/learnbay/gitrepo
$ git remote add origin https://github.com/zenith8ashu/Data_Science_Remote.git
fatal: not a git repository (or any of the parent directories): .git

WW930+A594413@DESKTOP-7TTGSEC MINGW64 /c/ashish/personal/learnbay/gitrepo
$ git add remote origin https://github.com/zenith8ashu/Data_Science_Remote.git
fatal: not a git repository (or any of the parent directories): .git

WW930+A594413@DESKTOP-7TTGSEC MINGW64 /c/ashish/personal/learnbay/gitrepo
$ cd data_science_remote

WW930+A594413@DESKTOP-7TTGSEC MINGW64 /c/ashish/personal/learnbay/gitrepo/data_science_remote
$ git init
Initialized empty Git repository in C:/Ashish/Personal/LearnBay/GitRepo/Data_Science_Remote/.git/

WW930+A594413@DESKTOP-7TTGSEC MINGW64 /c/ashish/personal/learnbay/gitrepo/data_science_remote (master)
$ ls

WW930+A594413@DESKTOP-7TTGSEC MINGW64 /c/ashish/personal/learnbay/gitrepo/data_science_remote (master)
$ ls -al
total 8
drwxr-xr-x 1 WW930+A594413 4096 0 Jan 11 08:33 ./
drwxr-xr-x 1 WW930+A594413 4096 0 Jan 11 08:30 ../
drwxr-xr-x 1 WW930+A594413 4096 0 Jan 11 08:33 .git/

WW930+A594413@DESKTOP-7TTGSEC MINGW64 /c/ashish/personal/learnbay/gitrepo/data_science_remote (master)
$ echo "# Data_Science_Remote" >> README.md

WW930+A594413@DESKTOP-7TTGSEC MINGW64 /c/ashish/personal/learnbay/gitrepo/data_science_remote (master)
$ git add README.md
warning: LF will be replaced by CRLF in README.md.
The file will have its original line endings in your working directory

WW930+A594413@DESKTOP-7TTGSEC MINGW64 /c/ashish/personal/learnbay/gitrepo/data_science_remote (master)
$ ls -al
total 9
drwxr-xr-x 1 WW930+A594413 4096  0 Jan 11 08:36 ./
drwxr-xr-x 1 WW930+A594413 4096  0 Jan 11 08:30 ../
drwxr-xr-x 1 WW930+A594413 4096  0 Jan 11 08:36 .git/
-rw-r--r-- 1 WW930+A594413 4096 22 Jan 11 08:36 README.md

WW930+A594413@DESKTOP-7TTGSEC MINGW64 /c/ashish/personal/learnbay/gitrepo/data_science_remote (master)
$ git status
On branch master

No commits yet

Changes to be committed:
  (use "git rm --cached <file>..." to unstage)
        new file:   README.md


WW930+A594413@DESKTOP-7TTGSEC MINGW64 /c/ashish/personal/learnbay/gitrepo/data_science_remote (master)
$ git commit -m "first commit"
[master (root-commit) af5f6d6] first commit
 1 file changed, 1 insertion(+)
 create mode 100644 README.md

WW930+A594413@DESKTOP-7TTGSEC MINGW64 /c/ashish/personal/learnbay/gitrepo/data_science_remote (master)
$ git remote add origin https://github.com/zenith8ashu/Data_Science_Remote.git

WW930+A594413@DESKTOP-7TTGSEC MINGW64 /c/ashish/personal/learnbay/gitrepo/data_science_remote (master)
$ ls
README.md

WW930+A594413@DESKTOP-7TTGSEC MINGW64 /c/ashish/personal/learnbay/gitrepo/data_science_remote (master)
$ touch f1.py

WW930+A594413@DESKTOP-7TTGSEC MINGW64 /c/ashish/personal/learnbay/gitrepo/data_science_remote (master)
$ echo "Hi" > f2.py

WW930+A594413@DESKTOP-7TTGSEC MINGW64 /c/ashish/personal/learnbay/gitrepo/data_science_remote (master)
$ vim f3.py

WW930+A594413@DESKTOP-7TTGSEC MINGW64 /c/ashish/personal/learnbay/gitrepo/data_science_remote (master)
$ git add f1.py f2.py
warning: LF will be replaced by CRLF in f2.py.
The file will have its original line endings in your working directory

WW930+A594413@DESKTOP-7TTGSEC MINGW64 /c/ashish/personal/learnbay/gitrepo/data_science_remote (master)
$ git status
On branch master
Changes to be committed:
  (use "git restore --staged <file>..." to unstage)
        new file:   f1.py
        new file:   f2.py

Untracked files:
  (use "git add <file>..." to include in what will be committed)
        f3.py


WW930+A594413@DESKTOP-7TTGSEC MINGW64 /c/ashish/personal/learnbay/gitrepo/data_science_remote (master)
$ git commit -m 'Added f1 and f2 only'
[master caa240a] Added f1 and f2 only
 2 files changed, 1 insertion(+)
 create mode 100644 f1.py
 create mode 100644 f2.py

WW930+A594413@DESKTOP-7TTGSEC MINGW64 /c/ashish/personal/learnbay/gitrepo/data_science_remote (master)
$ git status
On branch master
Untracked files:
  (use "git add <file>..." to include in what will be committed)
        f3.py

nothing added to commit but untracked files present (use "git add" to track)

WW930+A594413@DESKTOP-7TTGSEC MINGW64 /c/ashish/personal/learnbay/gitrepo/data_science_remote (master)
$ git remote -v
origin  https://github.com/zenith8ashu/Data_Science_Remote.git (fetch)
origin  https://github.com/zenith8ashu/Data_Science_Remote.git (push)

WW930+A594413@DESKTOP-7TTGSEC MINGW64 /c/ashish/personal/learnbay/gitrepo/data_science_remote (master)
$ ls
README.md  f1.py  f2.py  f3.py

WW930+A594413@DESKTOP-7TTGSEC MINGW64 /c/ashish/personal/learnbay/gitrepo/data_science_remote (master)
$ rm readme.md

WW930+A594413@DESKTOP-7TTGSEC MINGW64 /c/ashish/personal/learnbay/gitrepo/data_science_remote (master)
$ ls
f1.py  f2.py  f3.py

WW930+A594413@DESKTOP-7TTGSEC MINGW64 /c/ashish/personal/learnbay/gitrepo/data_science_remote (master)
$ ls -al
total 14
drwxr-xr-x 1 WW930+A594413 4096 0 Jan 11 09:27 ./
drwxr-xr-x 1 WW930+A594413 4096 0 Jan 11 08:30 ../
drwxr-xr-x 1 WW930+A594413 4096 0 Jan 11 09:23 .git/
-rw-r--r-- 1 WW930+A594413 4096 0 Jan 11 09:21 f1.py
-rw-r--r-- 1 WW930+A594413 4096 3 Jan 11 09:21 f2.py
-rw-r--r-- 1 WW930+A594413 4096 6 Jan 11 09:22 f3.py

WW930+A594413@DESKTOP-7TTGSEC MINGW64 /c/ashish/personal/learnbay/gitrepo/data_science_remote (master)
$ git branch -m main

WW930+A594413@DESKTOP-7TTGSEC MINGW64 /c/ashish/personal/learnbay/gitrepo/data_science_remote (main)
$ git remote -v
origin  https://github.com/zenith8ashu/Data_Science_Remote.git (fetch)
origin  https://github.com/zenith8ashu/Data_Science_Remote.git (push)

WW930+A594413@DESKTOP-7TTGSEC MINGW64 /c/ashish/personal/learnbay/gitrepo/data_s
$ git fetch
remote: Enumerating objects: 3, done.
remote: Counting objects: 100% (3/3), done.
remote: Total 3 (delta 0), reused 0 (delta 0), pack-reused 0
Unpacking objects: 100% (3/3), 604 bytes | 75.00 KiB/s, done.
From https://github.com/zenith8ashu/Data_Science_Remote
 * [new branch]      main       -> origin/main

WW930+A594413@DESKTOP-7TTGSEC MINGW64 /c/ashish/personal/learnbay/gitrepo/data_science_remote (main)
$ git fetch origin

WW930+A594413@DESKTOP-7TTGSEC MINGW64 /c/ashish/personal/learnbay/gitrepo/data_science_remote (main)
$ git remote -v
origin  https://github.com/zenith8ashu/Data_Science_Remote.git (fetch)
origin  https://github.com/zenith8ashu/Data_Science_Remote.git (push)

WW930+A594413@DESKTOP-7TTGSEC MINGW64 /c/ashish/personal/learnbay/gitrepo/data_science_remote (main)
$ git push -f origin main
Enumerating objects: 7, done.
Counting objects: 100% (7/7), done.
Delta compression using up to 8 threads
Compressing objects: 100% (3/3), done.
Writing objects: 100% (7/7), 526 bytes | 526.00 KiB/s, done.
Total 7 (delta 0), reused 0 (delta 0), pack-reused 0
To https://github.com/zenith8ashu/Data_Science_Remote.git
 + 4802c11...caa240a main -> main (forced update)

WW930+A594413@DESKTOP-7TTGSEC MINGW64 /c/ashish/personal/learnbay/gitrepo/data_science_remote (main)
$ git status
On branch main
Changes not staged for commit:
  (use "git add/rm <file>..." to update what will be committed)
  (use "git restore <file>..." to discard changes in working directory)
        deleted:    README.md

Untracked files:
  (use "git add <file>..." to include in what will be committed)
        f3.py

no changes added to commit (use "git add" and/or "git commit -a")

WW930+A594413@DESKTOP-7TTGSEC MINGW64 /c/ashish/personal/learnbay/gitrepo/data_science_remote (main)
$ git add .
warning: LF will be replaced by CRLF in f3.py.
The file will have its original line endings in your working directory

WW930+A594413@DESKTOP-7TTGSEC MINGW64 /c/ashish/personal/learnbay/gitrepo/data_science_remote (main)
$ git add.
git: 'add.' is not a git command. See 'git --help'.

The most similar command is
        add

WW930+A594413@DESKTOP-7TTGSEC MINGW64 /c/ashish/personal/learnbay/gitrepo/data_science_remote (main)
$ ls
f1.py  f2.py  f3.py

WW930+A594413@DESKTOP-7TTGSEC MINGW64 /c/ashish/personal/learnbay/gitrepo/data_science_remote (main)
$ git add..
git: 'add..' is not a git command. See 'git --help'.

WW930+A594413@DESKTOP-7TTGSEC MINGW64 /c/ashish/personal/learnbay/gitrepo/data_science_remote (main)
$ git add ..
fatal: ..: '..' is outside repository at 'C:/Ashish/Personal/LearnBay/GitRepo/Data_Science_Remote'

WW930+A594413@DESKTOP-7TTGSEC MINGW64 /c/ashish/personal/learnbay/gitrepo/data_science_remote (main)
$ git add .

WW930+A594413@DESKTOP-7TTGSEC MINGW64 /c/ashish/personal/learnbay/gitrepo/data_science_remote (main)
$ git status
On branch main
Changes to be committed:
  (use "git restore --staged <file>..." to unstage)
        deleted:    README.md
        new file:   f3.py


WW930+A594413@DESKTOP-7TTGSEC MINGW64 /c/ashish/personal/learnbay/gitrepo/data_science_remote (main)
$ git commit -m 'added f3'
[main fb093cd] added f3
 2 files changed, 1 insertion(+), 1 deletion(-)
 delete mode 100644 README.md
 create mode 100644 f3.py

WW930+A594413@DESKTOP-7TTGSEC MINGW64 /c/ashish/personal/learnbay/gitrepo/data_science_remote (main)
$ git push origin main
Enumerating objects: 4, done.
Counting objects: 100% (4/4), done.
Delta compression using up to 8 threads
Compressing objects: 100% (2/2), done.
Writing objects: 100% (3/3), 298 bytes | 298.00 KiB/s, done.
Total 3 (delta 0), reused 0 (delta 0), pack-reused 0
To https://github.com/zenith8ashu/Data_Science_Remote.git
   caa240a..fb093cd  main -> main

WW930+A594413@DESKTOP-7TTGSEC MINGW64 /c/ashish/personal/learnbay/gitrepo/data_science_remote (main)
$ git status
On branch main
nothing to commit, working tree clean

WW930+A594413@DESKTOP-7TTGSEC MINGW64 /c/ashish/personal/learnbay/gitrepo/data_science_remote (main)
$ git log
commit fb093cd3f11fb60ed9d7222e692df09ac35536c9 (HEAD -> main, origin/main)
Author: Ashish Kumar <zenith8ashu@gmail.com>
Date:   Mon Jan 11 09:37:12 2021 +0530

    added f3

commit caa240aefef5fdf206e498139bad97ef21e0c300
Author: Ashish Kumar <zenith8ashu@gmail.com>
Date:   Mon Jan 11 09:23:08 2021 +0530

    Added f1 and f2 only

commit af5f6d6d86297d21e9de6214c04e44e1ac23e80a
Author: Ashish Kumar <zenith8ashu@gmail.com>
Date:   Mon Jan 11 08:36:55 2021 +0530

    first commit
WW930+A594413@DESKTOP-7TTGSEC MINGW64 /c/ashish/personal/learnbay/gitrepo/data_science_remote (main)
$ ls
f1.py  f2.py  f3.py

WW930+A594413@DESKTOP-7TTGSEC MINGW64 /c/ashish/personal/learnbay/gitrepo/data_science_remote (main)
$ git pull origin main
From https://github.com/zenith8ashu/Data_Science_Remote
 * branch            main       -> FETCH_HEAD
Updating fb093cd..e887b89
Fast-forward
 README.md | 2 ++
 1 file changed, 2 insertions(+)
 create mode 100644 README.md

WW930+A594413@DESKTOP-7TTGSEC MINGW64 /c/ashish/personal/learnbay/gitrepo/data_science_remote (main)
$ ls
README.md  f1.py  f2.py  f3.py

